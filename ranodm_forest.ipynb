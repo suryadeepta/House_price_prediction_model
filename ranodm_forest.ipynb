{
 "cells": [
  {
   "cell_type": "code",
   "execution_count": null,
   "id": "b101468c",
   "metadata": {},
   "outputs": [
    {
     "name": "stdout",
     "output_type": "stream",
     "text": [
      "R² Score (Random Forest): 0.5186033698463715\n"
     ]
    }
   ],
   "source": [
    "import pandas as pd\n",
    "import numpy as np\n",
    "from sklearn.model_selection import train_test_split\n",
    "from sklearn.ensemble import RandomForestRegressor\n",
    "from sklearn.preprocessing import StandardScaler, MinMaxScaler\n",
    "from sklearn.metrics import r2_score\n",
    "import pickle\n",
    "\n",
    "data = pd.read_csv(r\"C:\\Users\\simas\\OneDrive\\Desktop\\Project_surya\\Bengaluru_House_Data.csv\")\n",
    "df = pd.DataFrame(data)\n",
    "\n",
    "df = df.drop(['area_type', 'availability', 'society', 'balcony'], axis=1)\n",
    "df.dropna(inplace=True)\n",
    "\n",
    "df['bhk'] = df['size'].apply(lambda x: int(x.split()[0]))\n",
    "df.drop(['size'], axis=1, inplace=True)\n",
    "\n",
    "def convert_sqft(x):\n",
    "    try:\n",
    "        return float(x)\n",
    "    except:\n",
    "        if '-' in x:\n",
    "            tokens = x.split('-')\n",
    "            return (float(tokens[0]) + float(tokens[1])) / 2\n",
    "        return None\n",
    "\n",
    "df['total_sqft'] = df['total_sqft'].apply(convert_sqft)\n",
    "df.dropna(inplace=True)\n",
    "\n",
    "X = df[['total_sqft', 'bath', 'bhk']]\n",
    "y = df['price']\n",
    "\n",
    "scaler_std = StandardScaler()\n",
    "X_scaled = scaler_std.fit_transform(X)\n",
    "\n",
    "scaler_norm = MinMaxScaler()\n",
    "X_norm = scaler_norm.fit_transform(X_scaled)\n",
    "\n",
    "X_train, X_test, y_train, y_test = train_test_split(X_norm, y, test_size=0.2, random_state=42)\n",
    "\n",
    "model = RandomForestRegressor(n_estimators=100, random_state=42)\n",
    "model.fit(X_train, y_train)\n",
    "\n",
    "y_pred = model.predict(X_test)\n",
    "print(\"R² Score (Random Forest):\", r2_score(y_test, y_pred))\n",
    "\n",
    "# Save model\n",
    "model_data = (model, scaler_std, scaler_norm)\n",
    "with open(\"house_model_rf.pkl\", \"wb\") as f:\n",
    "    pickle.dump(model_data, f)\n",
    "\n"
   ]
  },
  {
   "cell_type": "code",
   "execution_count": null,
   "id": "01e62bbe",
   "metadata": {},
   "outputs": [],
   "source": []
  }
 ],
 "metadata": {
  "kernelspec": {
   "display_name": "base",
   "language": "python",
   "name": "python3"
  },
  "language_info": {
   "codemirror_mode": {
    "name": "ipython",
    "version": 3
   },
   "file_extension": ".py",
   "mimetype": "text/x-python",
   "name": "python",
   "nbconvert_exporter": "python",
   "pygments_lexer": "ipython3",
   "version": "3.12.7"
  }
 },
 "nbformat": 4,
 "nbformat_minor": 5
}
